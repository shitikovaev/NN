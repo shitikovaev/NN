{
 "cells": [
  {
   "cell_type": "code",
   "execution_count": 37,
   "source": [
    "import matplotlib.pyplot as plt\n",
    "import pandas as pd\n",
    "\n",
    "\n",
    "df = pd.read_csv(\"Shoes_Data.csv\")\n",
    "df = df.drop_duplicates()\n",
    "df = df[[\"reviews\", \"reviews_rating\"]]\n",
    "\n",
    "print(df.shape)\n",
    "print(df.head(10))"
   ],
   "outputs": [
    {
     "output_type": "stream",
     "name": "stdout",
     "text": [
      "(1015, 2)\n",
      "                                             reviews  \\\n",
      "0  Not happy with product|| It's not as expected....   \n",
      "1  Memory cushioning in these shoes is the best f...   \n",
      "2  Worth to its amount|| Go for it|| Perfect|| 5 ...   \n",
      "3  Sup quality|| Good but not expected|| Awesome 👌.!   \n",
      "4  Best|| Satisfied!|| Affordable beauty 😘😘😘😘 the...   \n",
      "5  Awesome|| Nice Product|| Nic fitting|| Poor qu...   \n",
      "6  Bang for buck(paise)|| Refund or change|| This...   \n",
      "7  Think twice before ordering Amazon|| Very poor...   \n",
      "8  Material is good and comfortable. Nice product...   \n",
      "9  It's nice and very comfortable.|| How can you ...   \n",
      "\n",
      "                                      reviews_rating  \n",
      "0  1.0 out of 5 stars|| 1.0 out of 5 stars|| 3.0 ...  \n",
      "1  5.0 out of 5 stars|| 1.0 out of 5 stars|| 5.0 ...  \n",
      "2  5.0 out of 5 stars|| 5.0 out of 5 stars|| 5.0 ...  \n",
      "3  5.0 out of 5 stars|| 3.0 out of 5 stars|| 5.0 ...  \n",
      "4  5.0 out of 5 stars|| 5.0 out of 5 stars|| 5.0 ...  \n",
      "5  5.0 out of 5 stars|| 4.0 out of 5 stars|| 4.0 ...  \n",
      "6  5.0 out of 5 stars|| 1.0 out of 5 stars|| 4.0 ...  \n",
      "7  1.0 out of 5 stars|| 1.0 out of 5 stars|| 5.0 ...  \n",
      "8  5.0 out of 5 stars|| 5.0 out of 5 stars|| 5.0 ...  \n",
      "9            5.0 out of 5 stars|| 1.0 out of 5 stars  \n"
     ]
    }
   ],
   "metadata": {}
  },
  {
   "cell_type": "code",
   "execution_count": 38,
   "source": [
    "reviews  = [review for raw_reviews in df[\"reviews\"] for review in raw_reviews.split(\"||\")]\n",
    "ratings = [float(rating[:3]) for raw_ratings in df[\"reviews_rating\"] for rating in raw_ratings.split(\"||\")]\n",
    "df = pd.DataFrame(list(zip(reviews, ratings)),\n",
    "               columns =['review', 'rating'])\n",
    "\n",
    "df.head(10)"
   ],
   "outputs": [
    {
     "output_type": "execute_result",
     "data": {
      "text/html": [
       "<div>\n",
       "<style scoped>\n",
       "    .dataframe tbody tr th:only-of-type {\n",
       "        vertical-align: middle;\n",
       "    }\n",
       "\n",
       "    .dataframe tbody tr th {\n",
       "        vertical-align: top;\n",
       "    }\n",
       "\n",
       "    .dataframe thead th {\n",
       "        text-align: right;\n",
       "    }\n",
       "</style>\n",
       "<table border=\"1\" class=\"dataframe\">\n",
       "  <thead>\n",
       "    <tr style=\"text-align: right;\">\n",
       "      <th></th>\n",
       "      <th>review</th>\n",
       "      <th>rating</th>\n",
       "    </tr>\n",
       "  </thead>\n",
       "  <tbody>\n",
       "    <tr>\n",
       "      <th>0</th>\n",
       "      <td>Not happy with product</td>\n",
       "      <td>1.0</td>\n",
       "    </tr>\n",
       "    <tr>\n",
       "      <th>1</th>\n",
       "      <td>It's not as expected.</td>\n",
       "      <td>1.0</td>\n",
       "    </tr>\n",
       "    <tr>\n",
       "      <th>2</th>\n",
       "      <td>AVERAGE PRODUCT</td>\n",
       "      <td>3.0</td>\n",
       "    </tr>\n",
       "    <tr>\n",
       "      <th>3</th>\n",
       "      <td>Pic more beautiful</td>\n",
       "      <td>3.0</td>\n",
       "    </tr>\n",
       "    <tr>\n",
       "      <th>4</th>\n",
       "      <td>Got damage product. But quality is average fo...</td>\n",
       "      <td>3.0</td>\n",
       "    </tr>\n",
       "    <tr>\n",
       "      <th>5</th>\n",
       "      <td>Bad product different from what was listed</td>\n",
       "      <td>2.0</td>\n",
       "    </tr>\n",
       "    <tr>\n",
       "      <th>6</th>\n",
       "      <td>Worst product</td>\n",
       "      <td>1.0</td>\n",
       "    </tr>\n",
       "    <tr>\n",
       "      <th>7</th>\n",
       "      <td>Don't buy</td>\n",
       "      <td>2.0</td>\n",
       "    </tr>\n",
       "    <tr>\n",
       "      <th>8</th>\n",
       "      <td>Low quality makes pain on heals by sharp edge...</td>\n",
       "      <td>1.0</td>\n",
       "    </tr>\n",
       "    <tr>\n",
       "      <th>9</th>\n",
       "      <td>Do not buy it anyway</td>\n",
       "      <td>1.0</td>\n",
       "    </tr>\n",
       "  </tbody>\n",
       "</table>\n",
       "</div>"
      ],
      "text/plain": [
       "                                              review  rating\n",
       "0                             Not happy with product     1.0\n",
       "1                              It's not as expected.     1.0\n",
       "2                                    AVERAGE PRODUCT     3.0\n",
       "3                                 Pic more beautiful     3.0\n",
       "4   Got damage product. But quality is average fo...     3.0\n",
       "5         Bad product different from what was listed     2.0\n",
       "6                                      Worst product     1.0\n",
       "7                                          Don't buy     2.0\n",
       "8   Low quality makes pain on heals by sharp edge...     1.0\n",
       "9                               Do not buy it anyway     1.0"
      ]
     },
     "metadata": {},
     "execution_count": 38
    }
   ],
   "metadata": {}
  },
  {
   "cell_type": "code",
   "execution_count": 39,
   "source": [
    "df['rating'].plot(kind='hist')"
   ],
   "outputs": [
    {
     "output_type": "execute_result",
     "data": {
      "text/plain": [
       "<AxesSubplot:ylabel='Frequency'>"
      ]
     },
     "metadata": {},
     "execution_count": 39
    },
    {
     "output_type": "display_data",
     "data": {
      "image/png": "[encoded data removed]",
      "text/plain": [
       "<Figure size 432x288 with 1 Axes>"
      ]
     },
     "metadata": {
      "needs_background": "light"
     }
    }
   ],
   "metadata": {}
  },
  {
   "cell_type": "markdown",
   "source": [
    "В отзывах куча мусора"
   ],
   "metadata": {}
  },
  {
   "cell_type": "code",
   "execution_count": 40,
   "source": [
    "print(set([symbol for review in df[\"review\"].values for symbol in review]))\n"
   ],
   "outputs": [
    {
     "output_type": "stream",
     "name": "stdout",
     "text": [
      "{\"'\", '🥾', 'र', '😡', 'ब', '👌', '💕', '💖', '🏃', '🌟', '💯', '👞', 'ॉ', '💥', '🏻', 'म', '👇', '🇪', '️', 'ள', '😉', '🤫', 'ि', '😘', '✌', 'l', '🏼', '😇', 'F', 'u', 'v', '।', '🦶', '…', 'G', '|', 'K', 'ट', '*', 'o', 'य', 'R', '😄', 'T', '☺', '😂', '&', 'a', '😁', ' ', 'z', '5', '’', '🤟', 'M', '»', '😭', 's', 'ி', 'i', 'W', '🤩', '்', 'ग', 'I', 'h', '3', '@', '❌', '🖤', 'Q', '🤮', '😍', 'U', 'L', 'J', 'E', 'O', '✊', '⇢', 'झ', '⭐', '🇳', '😔', '?', '😅', '%', '🤘', '😞', 't', 'C', 'w', 'S', 'P', '😊', 'न', 'b', 'Z', '💪', 'े', 'ख', 'ं', 'ू', '+', 'छ', '😟', '😀', 'A', 'ड', 'ा', '=', 'x', '🤨', '😐', 'த', 'ு', 'N', 'ह', '🤎', '\\u200d', '7', '8', '❤', 'V', 'स', '👟', '🤑', 'H', 'ु', '🤙', 'X', 'ी', '😋', '!', 'g', '्', 'ப', 'f', '\"', '6', '🇨', 'व', '☑', 'त', '💚', 'B', '(', '9', '«', 'ढ', '_', '✔', '❣', '/', '😎', '👍', 'c', 'q', '😃', '#', '0', '👎', '🔥', 'क', 'उ', '💰', 'ई', ':', 'ो', '😌', 'ß', 'd', '💋', 'द', '₹', '👏', '😶', 'प', '🥰', '😒', 'j', '-', '💸', 'p', 'ज', 'r', 'e', 'm', '🤣', '📦', '😤', '😢', '🌹', '😑', 'k', 'D', 'Y', 'च', 'ட', 'ै', '1', '🙄', '2', 'y', 'इ', '🙂', 'अ', '4', 'n', 'ल', '😠', '♂', ')', '🇮', '☹', '.', 'आ'}\n"
     ]
    }
   ],
   "metadata": {}
  },
  {
   "cell_type": "markdown",
   "source": [
    "Почистим"
   ],
   "metadata": {}
  },
  {
   "cell_type": "code",
   "execution_count": 41,
   "source": [
    "import re \n",
    "from string import punctuation\n",
    "import nltk\n",
    "nltk.download('stopwords')\n",
    "from nltk.corpus import stopwords\n",
    "\n",
    "stop = stopwords.words('english')\n",
    "stop = set(stop)\n",
    "\n",
    "def remove_punctuation(text):\n",
    "    return text.translate(str.maketrans('','', punctuation))\n",
    "\n",
    "def remove_stopwords(text):\n",
    "    return \" \".join([word for word in str(text).split() if word not in stop])\n",
    "\n",
    "def remove_digits(text):\n",
    "    return re.sub(r'\\d+', '', text)\n",
    "\n",
    "def remove_emoji(text):\n",
    "    emoji_pattern = re.compile(\"[\"\n",
    "                           u\"\\U0001F600-\\U0001F64F\"  # emoticons\n",
    "                           u\"\\U0001F300-\\U0001F5FF\"  # symbols & pictographs\n",
    "                           u\"\\U0001F680-\\U0001F6FF\"  # transport & map symbols\n",
    "                           u\"\\U0001F1E0-\\U0001F1FF\"  # flags (iOS)\n",
    "                           u\"\\U00002702-\\U000027B0\"\n",
    "                           u\"\\U000024C2-\\U0001F251\"\n",
    "                           \"]+\", flags=re.UNICODE)\n",
    "    return emoji_pattern.sub(r'', text)\n",
    "\n",
    "def remove_non_printable(text):\n",
    "    text = text.encode(\"ascii\", \"ignore\")\n",
    "    return text.decode()\n",
    "        \n",
    "def clean_text(text):\n",
    "    text = text.lower()\n",
    "    text = remove_punctuation(text)\n",
    "    text = remove_stopwords(text)\n",
    "    text = remove_digits(text)\n",
    "    text = remove_emoji(text)\n",
    "    text = remove_non_printable(text)\n",
    "    return text\n",
    "\n",
    "df[\"review\"] = df[\"review\"].apply(clean_text)"
   ],
   "outputs": [
    {
     "output_type": "stream",
     "name": "stderr",
     "text": [
      "[nltk_data] Downloading package stopwords to /Users/st/nltk_data...\n",
      "[nltk_data]   Package stopwords is already up-to-date!\n"
     ]
    }
   ],
   "metadata": {}
  },
  {
   "cell_type": "markdown",
   "source": [
    "Лемматизируем"
   ],
   "metadata": {}
  },
  {
   "cell_type": "code",
   "execution_count": 42,
   "source": [
    "nltk.download('wordnet')\n",
    "from nltk.stem import WordNetLemmatizer\n",
    "lemmatizer = WordNetLemmatizer()\n",
    "\n",
    "from nltk.tokenize import RegexpTokenizer\n",
    "tokenizer = RegexpTokenizer(r'[\\w-]+')\n",
    "\n",
    "from nltk.corpus import wordnet as wn\n",
    "from nltk.stem.wordnet import WordNetLemmatizer\n",
    "from nltk import pos_tag\n",
    "from collections import defaultdict\n",
    "tag_map = defaultdict(lambda : wn.NOUN)\n",
    "tag_map['J'] = wn.ADJ\n",
    "tag_map['V'] = wn.VERB\n",
    "tag_map['R'] = wn.ADV\n",
    "\n",
    "def lemmatize(line):\n",
    "  tokens = tokenizer.tokenize(line)\n",
    "  lemmas = []\n",
    "  for token, tag in pos_tag(tokens):\n",
    "      if len(token) > 1:\n",
    "        lemma = lemmatizer.lemmatize(token.lower(), tag_map[tag[0]])\n",
    "        if not re.search('[a-z]', token):\n",
    "          lemmas.append(f'{lemma.upper()} {lemma}')\n",
    "        else:\n",
    "          lemmas.append(lemma)\n",
    "  return ' '.join(lemmas)\n",
    "  \n",
    "df['review'] = [lemmatize(row) for row in df['review']]\n",
    "df.head(10)"
   ],
   "outputs": [
    {
     "output_type": "stream",
     "name": "stderr",
     "text": [
      "[nltk_data] Downloading package wordnet to /Users/st/nltk_data...\n",
      "[nltk_data]   Package wordnet is already up-to-date!\n"
     ]
    },
    {
     "output_type": "execute_result",
     "data": {
      "text/html": [
       "<div>\n",
       "<style scoped>\n",
       "    .dataframe tbody tr th:only-of-type {\n",
       "        vertical-align: middle;\n",
       "    }\n",
       "\n",
       "    .dataframe tbody tr th {\n",
       "        vertical-align: top;\n",
       "    }\n",
       "\n",
       "    .dataframe thead th {\n",
       "        text-align: right;\n",
       "    }\n",
       "</style>\n",
       "<table border=\"1\" class=\"dataframe\">\n",
       "  <thead>\n",
       "    <tr style=\"text-align: right;\">\n",
       "      <th></th>\n",
       "      <th>review</th>\n",
       "      <th>rating</th>\n",
       "    </tr>\n",
       "  </thead>\n",
       "  <tbody>\n",
       "    <tr>\n",
       "      <th>0</th>\n",
       "      <td>happy product</td>\n",
       "      <td>1.0</td>\n",
       "    </tr>\n",
       "    <tr>\n",
       "      <th>1</th>\n",
       "      <td>expect</td>\n",
       "      <td>1.0</td>\n",
       "    </tr>\n",
       "    <tr>\n",
       "      <th>2</th>\n",
       "      <td>average product</td>\n",
       "      <td>3.0</td>\n",
       "    </tr>\n",
       "    <tr>\n",
       "      <th>3</th>\n",
       "      <td>pic beautiful</td>\n",
       "      <td>3.0</td>\n",
       "    </tr>\n",
       "    <tr>\n",
       "      <th>4</th>\n",
       "      <td>got damage product quality average</td>\n",
       "      <td>3.0</td>\n",
       "    </tr>\n",
       "    <tr>\n",
       "      <th>5</th>\n",
       "      <td>bad product different list</td>\n",
       "      <td>2.0</td>\n",
       "    </tr>\n",
       "    <tr>\n",
       "      <th>6</th>\n",
       "      <td>bad product</td>\n",
       "      <td>1.0</td>\n",
       "    </tr>\n",
       "    <tr>\n",
       "      <th>7</th>\n",
       "      <td>dont buy</td>\n",
       "      <td>2.0</td>\n",
       "    </tr>\n",
       "    <tr>\n",
       "      <th>8</th>\n",
       "      <td>low quality make pain heals sharp edge inside ...</td>\n",
       "      <td>1.0</td>\n",
       "    </tr>\n",
       "    <tr>\n",
       "      <th>9</th>\n",
       "      <td>buy anyway</td>\n",
       "      <td>1.0</td>\n",
       "    </tr>\n",
       "  </tbody>\n",
       "</table>\n",
       "</div>"
      ],
      "text/plain": [
       "                                              review  rating\n",
       "0                                      happy product     1.0\n",
       "1                                             expect     1.0\n",
       "2                                    average product     3.0\n",
       "3                                      pic beautiful     3.0\n",
       "4                 got damage product quality average     3.0\n",
       "5                         bad product different list     2.0\n",
       "6                                        bad product     1.0\n",
       "7                                           dont buy     2.0\n",
       "8  low quality make pain heals sharp edge inside ...     1.0\n",
       "9                                         buy anyway     1.0"
      ]
     },
     "metadata": {},
     "execution_count": 42
    }
   ],
   "metadata": {}
  }
 ],
 "metadata": {
  "orig_nbformat": 4,
  "language_info": {
   "name": "python",
   "version": "3.9.7",
   "mimetype": "text/x-python",
   "codemirror_mode": {
    "name": "ipython",
    "version": 3
   },
   "pygments_lexer": "ipython3",
   "nbconvert_exporter": "python",
   "file_extension": ".py"
  },
  "kernelspec": {
   "name": "python3",
   "display_name": "Python 3.9.7 64-bit ('venv': venv)"
  },
  "interpreter": {
   "hash": "f45bd345cf2b29d340d89e3204e4f75fe6b6ec9308f222b119657a8b282396ca"
  }
 },
 "nbformat": 4,
 "nbformat_minor": 2
}